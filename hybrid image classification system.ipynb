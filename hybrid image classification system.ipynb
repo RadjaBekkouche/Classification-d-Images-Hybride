{
  "cells": [
    {
      "cell_type": "code",
      "execution_count": null,
      "metadata": {
        "id": "6-rJhcfs-khU"
      },
      "outputs": [],
      "source": [
        "# Import des bibliothèques nécessaires\n",
        "import numpy as np\n",
        "from sklearn.neighbors import KNeighborsClassifier\n",
        "from tensorflow.keras.models import Sequential\n",
        "from tensorflow.keras.layers import Dense, Flatten\n",
        "from tensorflow.keras.datasets import mnist\n",
        "from sklearn.metrics import accuracy_score"
      ]
    },
    {
      "cell_type": "code",
      "execution_count": null,
      "metadata": {
        "colab": {
          "base_uri": "https://localhost:8080/"
        },
        "id": "-PuTEwv5-lZu",
        "outputId": "4e4bdefd-59f2-478c-b262-112ef9bd619d"
      },
      "outputs": [
        {
          "output_type": "stream",
          "name": "stdout",
          "text": [
            "Downloading data from https://storage.googleapis.com/tensorflow/tf-keras-datasets/mnist.npz\n",
            "11490434/11490434 [==============================] - 0s 0us/step\n"
          ]
        }
      ],
      "source": [
        "# Chargement de l'ensemble de données MNIST\n",
        "(x_train, y_train), (x_test, y_test) = mnist.load_data()\n",
        "\n"
      ]
    },
    {
      "cell_type": "code",
      "execution_count": null,
      "metadata": {
        "id": "492dt1n1-mvi"
      },
      "outputs": [],
      "source": [
        "# Prétraitement des images\n",
        "x_train = x_train.astype('float32') / 255.0\n",
        "x_test = x_test.astype('float32') / 255.0\n",
        "x_train_flat = x_train.reshape((x_train.shape[0], -1))\n",
        "x_test_flat = x_test.reshape((x_test.shape[0], -1))\n"
      ]
    },
    {
      "cell_type": "code",
      "execution_count": null,
      "metadata": {
        "id": "OHJZknlh-oyC"
      },
      "outputs": [],
      "source": [
        "# Définition du modèle du réseau de neurones\n",
        "model = Sequential()\n",
        "model.add(Flatten(input_shape=(28, 28)))  # Ajuster en fonction de la taille de vos images\n",
        "model.add(Dense(128, activation='relu'))\n",
        "model.add(Dense(10, activation='softmax'))"
      ]
    },
    {
      "cell_type": "code",
      "execution_count": null,
      "metadata": {
        "colab": {
          "base_uri": "https://localhost:8080/"
        },
        "id": "flR0Psju-sJv",
        "outputId": "b95cb7e5-b567-46b8-f6c3-c169db1d938c"
      },
      "outputs": [
        {
          "output_type": "stream",
          "name": "stdout",
          "text": [
            "Epoch 1/100\n",
            "1500/1500 [==============================] - 16s 9ms/step - loss: 0.2946 - accuracy: 0.9152 - val_loss: 0.1560 - val_accuracy: 0.9548\n",
            "Epoch 2/100\n",
            "1500/1500 [==============================] - 7s 5ms/step - loss: 0.1331 - accuracy: 0.9609 - val_loss: 0.1142 - val_accuracy: 0.9656\n",
            "Epoch 3/100\n",
            "1500/1500 [==============================] - 6s 4ms/step - loss: 0.0911 - accuracy: 0.9731 - val_loss: 0.1059 - val_accuracy: 0.9673\n",
            "Epoch 4/100\n",
            "1500/1500 [==============================] - 6s 4ms/step - loss: 0.0674 - accuracy: 0.9798 - val_loss: 0.0891 - val_accuracy: 0.9735\n",
            "Epoch 5/100\n",
            "1500/1500 [==============================] - 6s 4ms/step - loss: 0.0522 - accuracy: 0.9844 - val_loss: 0.0856 - val_accuracy: 0.9751\n",
            "Epoch 6/100\n",
            "1500/1500 [==============================] - 6s 4ms/step - loss: 0.0398 - accuracy: 0.9878 - val_loss: 0.0865 - val_accuracy: 0.9758\n",
            "Epoch 7/100\n",
            "1500/1500 [==============================] - 7s 4ms/step - loss: 0.0311 - accuracy: 0.9905 - val_loss: 0.1023 - val_accuracy: 0.9715\n",
            "Epoch 8/100\n",
            "1500/1500 [==============================] - 8s 5ms/step - loss: 0.0267 - accuracy: 0.9915 - val_loss: 0.1031 - val_accuracy: 0.9710\n",
            "Epoch 9/100\n",
            "1500/1500 [==============================] - 9s 6ms/step - loss: 0.0198 - accuracy: 0.9942 - val_loss: 0.0895 - val_accuracy: 0.9765\n",
            "Epoch 10/100\n",
            "1500/1500 [==============================] - 7s 5ms/step - loss: 0.0168 - accuracy: 0.9949 - val_loss: 0.0932 - val_accuracy: 0.9769\n",
            "Epoch 11/100\n",
            "1500/1500 [==============================] - 5s 4ms/step - loss: 0.0142 - accuracy: 0.9958 - val_loss: 0.0985 - val_accuracy: 0.9753\n",
            "Epoch 12/100\n",
            "1500/1500 [==============================] - 7s 5ms/step - loss: 0.0119 - accuracy: 0.9964 - val_loss: 0.0984 - val_accuracy: 0.9754\n",
            "Epoch 13/100\n",
            "1500/1500 [==============================] - 5s 4ms/step - loss: 0.0104 - accuracy: 0.9968 - val_loss: 0.1065 - val_accuracy: 0.9754\n",
            "Epoch 14/100\n",
            "1500/1500 [==============================] - 6s 4ms/step - loss: 0.0104 - accuracy: 0.9969 - val_loss: 0.1027 - val_accuracy: 0.9763\n",
            "Epoch 15/100\n",
            "1500/1500 [==============================] - 7s 4ms/step - loss: 0.0072 - accuracy: 0.9981 - val_loss: 0.1060 - val_accuracy: 0.9771\n",
            "Epoch 16/100\n",
            "1500/1500 [==============================] - 6s 4ms/step - loss: 0.0077 - accuracy: 0.9978 - val_loss: 0.1097 - val_accuracy: 0.9768\n",
            "Epoch 17/100\n",
            "1500/1500 [==============================] - 6s 4ms/step - loss: 0.0074 - accuracy: 0.9976 - val_loss: 0.1162 - val_accuracy: 0.9768\n",
            "Epoch 18/100\n",
            "1500/1500 [==============================] - 5s 4ms/step - loss: 0.0041 - accuracy: 0.9990 - val_loss: 0.1051 - val_accuracy: 0.9788\n",
            "Epoch 19/100\n",
            "1500/1500 [==============================] - 7s 5ms/step - loss: 0.0059 - accuracy: 0.9982 - val_loss: 0.1272 - val_accuracy: 0.9754\n",
            "Epoch 20/100\n",
            "1500/1500 [==============================] - 6s 4ms/step - loss: 0.0051 - accuracy: 0.9985 - val_loss: 0.1243 - val_accuracy: 0.9763\n",
            "Epoch 21/100\n",
            "1500/1500 [==============================] - 7s 5ms/step - loss: 0.0051 - accuracy: 0.9985 - val_loss: 0.1175 - val_accuracy: 0.9770\n",
            "Epoch 22/100\n",
            "1500/1500 [==============================] - 6s 4ms/step - loss: 0.0063 - accuracy: 0.9979 - val_loss: 0.1195 - val_accuracy: 0.9787\n",
            "Epoch 23/100\n",
            "1500/1500 [==============================] - 7s 5ms/step - loss: 0.0023 - accuracy: 0.9993 - val_loss: 0.1118 - val_accuracy: 0.9799\n",
            "Epoch 24/100\n",
            "1500/1500 [==============================] - 6s 4ms/step - loss: 0.0045 - accuracy: 0.9987 - val_loss: 0.1321 - val_accuracy: 0.9766\n",
            "Epoch 25/100\n",
            "1500/1500 [==============================] - 7s 5ms/step - loss: 0.0028 - accuracy: 0.9992 - val_loss: 0.1315 - val_accuracy: 0.9776\n",
            "Epoch 26/100\n",
            "1500/1500 [==============================] - 5s 4ms/step - loss: 0.0058 - accuracy: 0.9981 - val_loss: 0.1438 - val_accuracy: 0.9758\n",
            "Epoch 27/100\n",
            "1500/1500 [==============================] - 8s 5ms/step - loss: 0.0037 - accuracy: 0.9988 - val_loss: 0.1376 - val_accuracy: 0.9774\n",
            "Epoch 28/100\n",
            "1500/1500 [==============================] - 5s 4ms/step - loss: 0.0028 - accuracy: 0.9992 - val_loss: 0.1682 - val_accuracy: 0.9728\n",
            "Epoch 29/100\n",
            "1500/1500 [==============================] - 7s 5ms/step - loss: 0.0035 - accuracy: 0.9988 - val_loss: 0.1406 - val_accuracy: 0.9786\n",
            "Epoch 30/100\n",
            "1500/1500 [==============================] - 6s 4ms/step - loss: 0.0051 - accuracy: 0.9982 - val_loss: 0.1512 - val_accuracy: 0.9758\n",
            "Epoch 31/100\n",
            "1500/1500 [==============================] - 7s 4ms/step - loss: 0.0020 - accuracy: 0.9995 - val_loss: 0.1591 - val_accuracy: 0.9771\n",
            "Epoch 32/100\n",
            "1500/1500 [==============================] - 6s 4ms/step - loss: 0.0042 - accuracy: 0.9987 - val_loss: 0.1414 - val_accuracy: 0.9786\n",
            "Epoch 33/100\n",
            "1500/1500 [==============================] - 6s 4ms/step - loss: 0.0039 - accuracy: 0.9986 - val_loss: 0.1565 - val_accuracy: 0.9755\n",
            "Epoch 34/100\n",
            "1500/1500 [==============================] - 7s 4ms/step - loss: 0.0040 - accuracy: 0.9987 - val_loss: 0.1641 - val_accuracy: 0.9762\n",
            "Epoch 35/100\n",
            "1500/1500 [==============================] - 6s 4ms/step - loss: 0.0023 - accuracy: 0.9991 - val_loss: 0.1481 - val_accuracy: 0.9768\n",
            "Epoch 36/100\n",
            "1500/1500 [==============================] - 7s 5ms/step - loss: 0.0030 - accuracy: 0.9991 - val_loss: 0.1673 - val_accuracy: 0.9762\n",
            "Epoch 37/100\n",
            "1500/1500 [==============================] - 6s 4ms/step - loss: 0.0030 - accuracy: 0.9990 - val_loss: 0.1507 - val_accuracy: 0.9779\n",
            "Epoch 38/100\n",
            "1500/1500 [==============================] - 7s 5ms/step - loss: 0.0026 - accuracy: 0.9990 - val_loss: 0.1575 - val_accuracy: 0.9776\n",
            "Epoch 39/100\n",
            "1500/1500 [==============================] - 5s 4ms/step - loss: 0.0017 - accuracy: 0.9994 - val_loss: 0.1494 - val_accuracy: 0.9787\n",
            "Epoch 40/100\n",
            "1500/1500 [==============================] - 7s 5ms/step - loss: 0.0035 - accuracy: 0.9989 - val_loss: 0.1610 - val_accuracy: 0.9768\n",
            "Epoch 41/100\n",
            "1500/1500 [==============================] - 6s 4ms/step - loss: 0.0040 - accuracy: 0.9988 - val_loss: 0.1442 - val_accuracy: 0.9784\n",
            "Epoch 42/100\n",
            "1500/1500 [==============================] - 7s 5ms/step - loss: 0.0023 - accuracy: 0.9993 - val_loss: 0.1703 - val_accuracy: 0.9767\n",
            "Epoch 43/100\n",
            "1500/1500 [==============================] - 5s 4ms/step - loss: 0.0024 - accuracy: 0.9993 - val_loss: 0.1553 - val_accuracy: 0.9789\n",
            "Epoch 44/100\n",
            "1500/1500 [==============================] - 6s 4ms/step - loss: 1.1152e-04 - accuracy: 1.0000 - val_loss: 0.1517 - val_accuracy: 0.9793\n",
            "Epoch 45/100\n",
            "1500/1500 [==============================] - 6s 4ms/step - loss: 0.0056 - accuracy: 0.9982 - val_loss: 0.1722 - val_accuracy: 0.9778\n",
            "Epoch 46/100\n",
            "1500/1500 [==============================] - 6s 4ms/step - loss: 0.0014 - accuracy: 0.9995 - val_loss: 0.1614 - val_accuracy: 0.9795\n",
            "Epoch 47/100\n",
            "1500/1500 [==============================] - 7s 4ms/step - loss: 0.0039 - accuracy: 0.9987 - val_loss: 0.1680 - val_accuracy: 0.9769\n",
            "Epoch 48/100\n",
            "1500/1500 [==============================] - 6s 4ms/step - loss: 0.0016 - accuracy: 0.9995 - val_loss: 0.1757 - val_accuracy: 0.9779\n",
            "Epoch 49/100\n",
            "1500/1500 [==============================] - 7s 5ms/step - loss: 0.0029 - accuracy: 0.9991 - val_loss: 0.1858 - val_accuracy: 0.9766\n",
            "Epoch 50/100\n",
            "1500/1500 [==============================] - 5s 4ms/step - loss: 0.0023 - accuracy: 0.9992 - val_loss: 0.1741 - val_accuracy: 0.9789\n",
            "Epoch 51/100\n",
            "1500/1500 [==============================] - 7s 5ms/step - loss: 0.0029 - accuracy: 0.9992 - val_loss: 0.1936 - val_accuracy: 0.9755\n",
            "Epoch 52/100\n",
            "1500/1500 [==============================] - 6s 4ms/step - loss: 0.0034 - accuracy: 0.9989 - val_loss: 0.1701 - val_accuracy: 0.9790\n",
            "Epoch 53/100\n",
            "1500/1500 [==============================] - 7s 5ms/step - loss: 0.0034 - accuracy: 0.9989 - val_loss: 0.1856 - val_accuracy: 0.9778\n",
            "Epoch 54/100\n",
            "1500/1500 [==============================] - 5s 4ms/step - loss: 1.7896e-04 - accuracy: 1.0000 - val_loss: 0.1626 - val_accuracy: 0.9798\n",
            "Epoch 55/100\n",
            "1500/1500 [==============================] - 7s 4ms/step - loss: 3.0933e-04 - accuracy: 0.9999 - val_loss: 0.1708 - val_accuracy: 0.9783\n",
            "Epoch 56/100\n",
            "1500/1500 [==============================] - 6s 4ms/step - loss: 0.0064 - accuracy: 0.9980 - val_loss: 0.1800 - val_accuracy: 0.9787\n",
            "Epoch 57/100\n",
            "1500/1500 [==============================] - 6s 4ms/step - loss: 4.3256e-04 - accuracy: 0.9999 - val_loss: 0.1752 - val_accuracy: 0.9793\n",
            "Epoch 58/100\n",
            "1500/1500 [==============================] - 6s 4ms/step - loss: 0.0052 - accuracy: 0.9986 - val_loss: 0.1871 - val_accuracy: 0.9781\n",
            "Epoch 59/100\n",
            "1500/1500 [==============================] - 5s 3ms/step - loss: 6.1477e-04 - accuracy: 0.9999 - val_loss: 0.1758 - val_accuracy: 0.9797\n",
            "Epoch 60/100\n",
            "1500/1500 [==============================] - 7s 5ms/step - loss: 6.8703e-04 - accuracy: 0.9999 - val_loss: 0.2216 - val_accuracy: 0.9743\n",
            "Epoch 61/100\n",
            "1500/1500 [==============================] - 5s 4ms/step - loss: 0.0058 - accuracy: 0.9982 - val_loss: 0.1926 - val_accuracy: 0.9777\n",
            "Epoch 62/100\n",
            "1500/1500 [==============================] - 7s 5ms/step - loss: 0.0023 - accuracy: 0.9992 - val_loss: 0.1914 - val_accuracy: 0.9772\n",
            "Epoch 63/100\n",
            "1500/1500 [==============================] - 5s 4ms/step - loss: 0.0027 - accuracy: 0.9991 - val_loss: 0.1921 - val_accuracy: 0.9777\n",
            "Epoch 64/100\n",
            "1500/1500 [==============================] - 7s 5ms/step - loss: 0.0021 - accuracy: 0.9992 - val_loss: 0.2028 - val_accuracy: 0.9779\n",
            "Epoch 65/100\n",
            "1500/1500 [==============================] - 5s 4ms/step - loss: 5.9689e-04 - accuracy: 0.9999 - val_loss: 0.1992 - val_accuracy: 0.9787\n",
            "Epoch 66/100\n",
            "1500/1500 [==============================] - 6s 4ms/step - loss: 0.0042 - accuracy: 0.9987 - val_loss: 0.2010 - val_accuracy: 0.9778\n",
            "Epoch 67/100\n",
            "1500/1500 [==============================] - 6s 4ms/step - loss: 0.0032 - accuracy: 0.9990 - val_loss: 0.2152 - val_accuracy: 0.9769\n",
            "Epoch 68/100\n",
            "1500/1500 [==============================] - 5s 4ms/step - loss: 0.0018 - accuracy: 0.9994 - val_loss: 0.1952 - val_accuracy: 0.9787\n",
            "Epoch 69/100\n",
            "1500/1500 [==============================] - 7s 5ms/step - loss: 5.3717e-04 - accuracy: 0.9999 - val_loss: 0.2521 - val_accuracy: 0.9733\n",
            "Epoch 70/100\n",
            "1500/1500 [==============================] - 5s 4ms/step - loss: 0.0015 - accuracy: 0.9995 - val_loss: 0.2035 - val_accuracy: 0.9790\n",
            "Epoch 71/100\n",
            "1500/1500 [==============================] - 7s 5ms/step - loss: 0.0035 - accuracy: 0.9989 - val_loss: 0.2128 - val_accuracy: 0.9777\n",
            "Epoch 72/100\n",
            "1500/1500 [==============================] - 5s 4ms/step - loss: 9.3297e-04 - accuracy: 0.9997 - val_loss: 0.2348 - val_accuracy: 0.9754\n",
            "Epoch 73/100\n",
            "1500/1500 [==============================] - 7s 5ms/step - loss: 0.0013 - accuracy: 0.9996 - val_loss: 0.2104 - val_accuracy: 0.9788\n",
            "Epoch 74/100\n",
            "1500/1500 [==============================] - 5s 4ms/step - loss: 8.6493e-04 - accuracy: 0.9998 - val_loss: 0.2242 - val_accuracy: 0.9786\n",
            "Epoch 75/100\n",
            "1500/1500 [==============================] - 6s 4ms/step - loss: 0.0049 - accuracy: 0.9985 - val_loss: 0.2243 - val_accuracy: 0.9769\n",
            "Epoch 76/100\n",
            "1500/1500 [==============================] - 6s 4ms/step - loss: 8.8437e-04 - accuracy: 0.9997 - val_loss: 0.2153 - val_accuracy: 0.9782\n",
            "Epoch 77/100\n",
            "1500/1500 [==============================] - 5s 4ms/step - loss: 0.0024 - accuracy: 0.9992 - val_loss: 0.2355 - val_accuracy: 0.9759\n",
            "Epoch 78/100\n",
            "1500/1500 [==============================] - 7s 5ms/step - loss: 0.0028 - accuracy: 0.9991 - val_loss: 0.2156 - val_accuracy: 0.9781\n",
            "Epoch 79/100\n",
            "1500/1500 [==============================] - 6s 4ms/step - loss: 0.0013 - accuracy: 0.9994 - val_loss: 0.2159 - val_accuracy: 0.9784\n",
            "Epoch 80/100\n",
            "1500/1500 [==============================] - 7s 5ms/step - loss: 0.0019 - accuracy: 0.9995 - val_loss: 0.2464 - val_accuracy: 0.9758\n",
            "Epoch 81/100\n",
            "1500/1500 [==============================] - 5s 4ms/step - loss: 0.0031 - accuracy: 0.9990 - val_loss: 0.2107 - val_accuracy: 0.9781\n",
            "Epoch 82/100\n",
            "1500/1500 [==============================] - 7s 5ms/step - loss: 0.0012 - accuracy: 0.9996 - val_loss: 0.2394 - val_accuracy: 0.9770\n",
            "Epoch 83/100\n",
            "1500/1500 [==============================] - 6s 4ms/step - loss: 8.5535e-04 - accuracy: 0.9997 - val_loss: 0.2066 - val_accuracy: 0.9801\n",
            "Epoch 84/100\n",
            "1500/1500 [==============================] - 7s 5ms/step - loss: 0.0013 - accuracy: 0.9996 - val_loss: 0.2528 - val_accuracy: 0.9750\n",
            "Epoch 85/100\n",
            "1500/1500 [==============================] - 5s 4ms/step - loss: 0.0040 - accuracy: 0.9989 - val_loss: 0.2334 - val_accuracy: 0.9764\n",
            "Epoch 86/100\n",
            "1500/1500 [==============================] - 6s 4ms/step - loss: 2.1423e-04 - accuracy: 1.0000 - val_loss: 0.2146 - val_accuracy: 0.9788\n",
            "Epoch 87/100\n",
            "1500/1500 [==============================] - 6s 4ms/step - loss: 1.8901e-05 - accuracy: 1.0000 - val_loss: 0.2105 - val_accuracy: 0.9792\n",
            "Epoch 88/100\n",
            "1500/1500 [==============================] - 5s 4ms/step - loss: 5.1153e-06 - accuracy: 1.0000 - val_loss: 0.2098 - val_accuracy: 0.9797\n",
            "Epoch 89/100\n",
            "1500/1500 [==============================] - 7s 5ms/step - loss: 2.9865e-06 - accuracy: 1.0000 - val_loss: 0.2096 - val_accuracy: 0.9797\n",
            "Epoch 90/100\n",
            "1500/1500 [==============================] - 5s 4ms/step - loss: 2.0287e-06 - accuracy: 1.0000 - val_loss: 0.2103 - val_accuracy: 0.9798\n",
            "Epoch 91/100\n",
            "1500/1500 [==============================] - 7s 5ms/step - loss: 1.3250e-06 - accuracy: 1.0000 - val_loss: 0.2114 - val_accuracy: 0.9799\n",
            "Epoch 92/100\n",
            "1500/1500 [==============================] - 5s 4ms/step - loss: 9.1474e-07 - accuracy: 1.0000 - val_loss: 0.2116 - val_accuracy: 0.9804\n",
            "Epoch 93/100\n",
            "1500/1500 [==============================] - 7s 5ms/step - loss: 5.9623e-07 - accuracy: 1.0000 - val_loss: 0.2117 - val_accuracy: 0.9808\n",
            "Epoch 94/100\n",
            "1500/1500 [==============================] - 5s 3ms/step - loss: 2.8614e-06 - accuracy: 1.0000 - val_loss: 0.2672 - val_accuracy: 0.9762\n",
            "Epoch 95/100\n",
            "1500/1500 [==============================] - 6s 4ms/step - loss: 0.0082 - accuracy: 0.9979 - val_loss: 0.2487 - val_accuracy: 0.9778\n",
            "Epoch 96/100\n",
            "1500/1500 [==============================] - 5s 4ms/step - loss: 0.0015 - accuracy: 0.9995 - val_loss: 0.2439 - val_accuracy: 0.9778\n",
            "Epoch 97/100\n",
            "1500/1500 [==============================] - 5s 4ms/step - loss: 6.1896e-05 - accuracy: 1.0000 - val_loss: 0.2286 - val_accuracy: 0.9793\n",
            "Epoch 98/100\n",
            "1500/1500 [==============================] - 7s 5ms/step - loss: 4.6150e-06 - accuracy: 1.0000 - val_loss: 0.2267 - val_accuracy: 0.9796\n",
            "Epoch 99/100\n",
            "1500/1500 [==============================] - 5s 4ms/step - loss: 2.7703e-06 - accuracy: 1.0000 - val_loss: 0.2261 - val_accuracy: 0.9795\n",
            "Epoch 100/100\n",
            "1500/1500 [==============================] - 7s 4ms/step - loss: 1.9148e-06 - accuracy: 1.0000 - val_loss: 0.2263 - val_accuracy: 0.9800\n"
          ]
        },
        {
          "output_type": "execute_result",
          "data": {
            "text/plain": [
              "<keras.src.callbacks.History at 0x7fed3833eaa0>"
            ]
          },
          "metadata": {},
          "execution_count": 5
        }
      ],
      "source": [
        "# Compilation et entraînement du modèle de réseau de neurones\n",
        "model.compile(optimizer='adam', loss='sparse_categorical_crossentropy', metrics=['accuracy'])\n",
        "model.fit(x_train, y_train, epochs=100, batch_size=32, validation_split=0.2)\n"
      ]
    },
    {
      "cell_type": "code",
      "execution_count": null,
      "metadata": {
        "colab": {
          "base_uri": "https://localhost:8080/"
        },
        "id": "-om6Ku0z-uql",
        "outputId": "995a2651-062c-4b2f-9f7c-a18d2b1b5dd6"
      },
      "outputs": [
        {
          "output_type": "stream",
          "name": "stdout",
          "text": [
            "313/313 [==============================] - 1s 2ms/step\n",
            "[7 2 1 ... 4 5 6]\n"
          ]
        }
      ],
      "source": [
        "# Prédictions du réseau de neurones sur l'ensemble de test\n",
        "nn_predictions = np.argmax(model.predict(x_test), axis=1)\n",
        "print(nn_predictions)"
      ]
    },
    {
      "cell_type": "code",
      "execution_count": null,
      "metadata": {
        "colab": {
          "base_uri": "https://localhost:8080/",
          "height": 75
        },
        "id": "63EMhoTq-vHL",
        "outputId": "a15575ef-8270-4873-e105-01668341cfb4"
      },
      "outputs": [
        {
          "output_type": "execute_result",
          "data": {
            "text/plain": [
              "KNeighborsClassifier(n_neighbors=3)"
            ],
            "text/html": [
              "<style>#sk-container-id-2 {color: black;background-color: white;}#sk-container-id-2 pre{padding: 0;}#sk-container-id-2 div.sk-toggleable {background-color: white;}#sk-container-id-2 label.sk-toggleable__label {cursor: pointer;display: block;width: 100%;margin-bottom: 0;padding: 0.3em;box-sizing: border-box;text-align: center;}#sk-container-id-2 label.sk-toggleable__label-arrow:before {content: \"▸\";float: left;margin-right: 0.25em;color: #696969;}#sk-container-id-2 label.sk-toggleable__label-arrow:hover:before {color: black;}#sk-container-id-2 div.sk-estimator:hover label.sk-toggleable__label-arrow:before {color: black;}#sk-container-id-2 div.sk-toggleable__content {max-height: 0;max-width: 0;overflow: hidden;text-align: left;background-color: #f0f8ff;}#sk-container-id-2 div.sk-toggleable__content pre {margin: 0.2em;color: black;border-radius: 0.25em;background-color: #f0f8ff;}#sk-container-id-2 input.sk-toggleable__control:checked~div.sk-toggleable__content {max-height: 200px;max-width: 100%;overflow: auto;}#sk-container-id-2 input.sk-toggleable__control:checked~label.sk-toggleable__label-arrow:before {content: \"▾\";}#sk-container-id-2 div.sk-estimator input.sk-toggleable__control:checked~label.sk-toggleable__label {background-color: #d4ebff;}#sk-container-id-2 div.sk-label input.sk-toggleable__control:checked~label.sk-toggleable__label {background-color: #d4ebff;}#sk-container-id-2 input.sk-hidden--visually {border: 0;clip: rect(1px 1px 1px 1px);clip: rect(1px, 1px, 1px, 1px);height: 1px;margin: -1px;overflow: hidden;padding: 0;position: absolute;width: 1px;}#sk-container-id-2 div.sk-estimator {font-family: monospace;background-color: #f0f8ff;border: 1px dotted black;border-radius: 0.25em;box-sizing: border-box;margin-bottom: 0.5em;}#sk-container-id-2 div.sk-estimator:hover {background-color: #d4ebff;}#sk-container-id-2 div.sk-parallel-item::after {content: \"\";width: 100%;border-bottom: 1px solid gray;flex-grow: 1;}#sk-container-id-2 div.sk-label:hover label.sk-toggleable__label {background-color: #d4ebff;}#sk-container-id-2 div.sk-serial::before {content: \"\";position: absolute;border-left: 1px solid gray;box-sizing: border-box;top: 0;bottom: 0;left: 50%;z-index: 0;}#sk-container-id-2 div.sk-serial {display: flex;flex-direction: column;align-items: center;background-color: white;padding-right: 0.2em;padding-left: 0.2em;position: relative;}#sk-container-id-2 div.sk-item {position: relative;z-index: 1;}#sk-container-id-2 div.sk-parallel {display: flex;align-items: stretch;justify-content: center;background-color: white;position: relative;}#sk-container-id-2 div.sk-item::before, #sk-container-id-2 div.sk-parallel-item::before {content: \"\";position: absolute;border-left: 1px solid gray;box-sizing: border-box;top: 0;bottom: 0;left: 50%;z-index: -1;}#sk-container-id-2 div.sk-parallel-item {display: flex;flex-direction: column;z-index: 1;position: relative;background-color: white;}#sk-container-id-2 div.sk-parallel-item:first-child::after {align-self: flex-end;width: 50%;}#sk-container-id-2 div.sk-parallel-item:last-child::after {align-self: flex-start;width: 50%;}#sk-container-id-2 div.sk-parallel-item:only-child::after {width: 0;}#sk-container-id-2 div.sk-dashed-wrapped {border: 1px dashed gray;margin: 0 0.4em 0.5em 0.4em;box-sizing: border-box;padding-bottom: 0.4em;background-color: white;}#sk-container-id-2 div.sk-label label {font-family: monospace;font-weight: bold;display: inline-block;line-height: 1.2em;}#sk-container-id-2 div.sk-label-container {text-align: center;}#sk-container-id-2 div.sk-container {/* jupyter's `normalize.less` sets `[hidden] { display: none; }` but bootstrap.min.css set `[hidden] { display: none !important; }` so we also need the `!important` here to be able to override the default hidden behavior on the sphinx rendered scikit-learn.org. See: https://github.com/scikit-learn/scikit-learn/issues/21755 */display: inline-block !important;position: relative;}#sk-container-id-2 div.sk-text-repr-fallback {display: none;}</style><div id=\"sk-container-id-2\" class=\"sk-top-container\"><div class=\"sk-text-repr-fallback\"><pre>KNeighborsClassifier(n_neighbors=3)</pre><b>In a Jupyter environment, please rerun this cell to show the HTML representation or trust the notebook. <br />On GitHub, the HTML representation is unable to render, please try loading this page with nbviewer.org.</b></div><div class=\"sk-container\" hidden><div class=\"sk-item\"><div class=\"sk-estimator sk-toggleable\"><input class=\"sk-toggleable__control sk-hidden--visually\" id=\"sk-estimator-id-2\" type=\"checkbox\" checked><label for=\"sk-estimator-id-2\" class=\"sk-toggleable__label sk-toggleable__label-arrow\">KNeighborsClassifier</label><div class=\"sk-toggleable__content\"><pre>KNeighborsClassifier(n_neighbors=3)</pre></div></div></div></div></div>"
            ]
          },
          "metadata": {},
          "execution_count": 12
        }
      ],
      "source": [
        "from sklearn.neighbors import KNeighborsClassifier\n",
        "\n",
        "# Instantiate the KNN model with multiple parameters\n",
        "knn_model = KNeighborsClassifier(\n",
        "    n_neighbors=3,     # Adjust as needed\n",
        "    weights='uniform', # Weight function used in prediction (options: 'uniform', 'distance')\n",
        "    algorithm='auto',  # Algorithm used to compute the nearest neighbors ('auto', 'ball_tree', 'kd_tree', 'brute')\n",
        "    p=2,               # Power parameter for the Minkowski metric (p=1 for Manhattan distance, p=2 for Euclidean distance)\n",
        "    metric='minkowski' # The distance metric to use for the tree ('minkowski' is generally used with the p parameter)\n",
        ")\n",
        "\n",
        "# Fit the model to the training data\n",
        "knn_model.fit(x_train_flat, y_train)\n",
        "\n"
      ]
    },
    {
      "cell_type": "code",
      "execution_count": null,
      "metadata": {
        "id": "je_ZYQCK-yif"
      },
      "outputs": [],
      "source": [
        "# Prédictions de k-NN sur l'ensemble de test\n",
        "knn_predictions = knn_model.predict(x_test_flat)\n"
      ]
    },
    {
      "cell_type": "code",
      "execution_count": null,
      "metadata": {
        "id": "2IKQs0yK-zBP"
      },
      "outputs": [],
      "source": [
        "from scipy.stats import mode\n",
        "\n",
        "# Combinaison des prédictions (vote majoritaire)\n",
        "hybrid_predictions = mode(np.vstack((nn_predictions, knn_predictions)), axis=0).mode.flatten()\n",
        "\n"
      ]
    },
    {
      "cell_type": "code",
      "execution_count": null,
      "metadata": {
        "id": "Uz8NV4WH-1E_"
      },
      "outputs": [],
      "source": [
        "# Évaluation des performances\n",
        "nn_accuracy = accuracy_score(y_test, nn_predictions)\n",
        "knn_accuracy = accuracy_score(y_test, knn_predictions)\n",
        "hybrid_accuracy = accuracy_score(y_test, hybrid_predictions)\n"
      ]
    },
    {
      "cell_type": "code",
      "execution_count": null,
      "metadata": {
        "colab": {
          "base_uri": "https://localhost:8080/"
        },
        "id": "b3h71k-n-31-",
        "outputId": "719772e7-aa36-4612-d54b-ad9c5aedcb07"
      },
      "outputs": [
        {
          "output_type": "stream",
          "name": "stdout",
          "text": [
            "Neural Network Accuracy: 0.98\n",
            "K-NN Accuracy: 0.9705\n",
            "Hybrid Model Accuracy: 0.9722\n"
          ]
        }
      ],
      "source": [
        "# Affichage des résultats\n",
        "print(f\"Neural Network Accuracy: {nn_accuracy}\")\n",
        "print(f\"K-NN Accuracy: {knn_accuracy}\")\n",
        "print(f\"Hybrid Model Accuracy: {hybrid_accuracy}\")\n"
      ]
    }
  ],
  "metadata": {
    "colab": {
      "provenance": []
    },
    "kernelspec": {
      "display_name": "Python 3",
      "name": "python3"
    },
    "language_info": {
      "name": "python"
    }
  },
  "nbformat": 4,
  "nbformat_minor": 0
}